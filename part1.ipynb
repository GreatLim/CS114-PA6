{
 "cells": [
  {
   "cell_type": "markdown",
   "metadata": {},
   "source": [
    "## Create distributional semantic word vectors"
   ]
  },
  {
   "cell_type": "code",
   "execution_count": null,
   "metadata": {
    "collapsed": true
   },
   "outputs": [],
   "source": [
    "import numpy as np\n",
    "import scipy as sp\n",
    "import re"
   ]
  },
  {
   "cell_type": "markdown",
   "metadata": {},
   "source": [
    "* Compute the co-occurrence matrix"
   ]
  },
  {
   "cell_type": "code",
   "execution_count": null,
   "metadata": {
    "collapsed": true
   },
   "outputs": [
    {
     "data": {
      "text/plain": [
       "{'bite', 'dogs', 'feed', 'like', 'men', 'the', 'women'}"
      ]
     },
     "execution_count": 35,
     "metadata": {},
     "output_type": "execute_result"
    }
   ],
   "source": [
    "f = open(\"dist_sim_data.txt\")\n",
    "word_set = set()\n",
    "lines = f.readlines()\n",
    "for line in lines:\n",
    "    for word in line[:-1].split(\" \"):\n",
    "        word_set.add(word)\n",
    "word_set"
   ]
  },
  {
   "cell_type": "code",
   "execution_count": 36,
   "metadata": {},
   "outputs": [
    {
     "data": {
      "text/plain": [
       "{0: 'feed', 1: 'dogs', 2: 'bite', 3: 'men', 4: 'like', 5: 'women', 6: 'the'}"
      ]
     },
     "execution_count": 36,
     "metadata": {},
     "output_type": "execute_result"
    }
   ],
   "source": [
    "index_to_word = {}\n",
    "word_to_index = {}\n",
    "index = 0\n",
    "for word in word_set:\n",
    "    index_to_word[index] = word\n",
    "    word_to_index[word] = index\n",
    "    index += 1\n",
    "index_to_word"
   ]
  },
  {
   "cell_type": "code",
   "execution_count": 38,
   "metadata": {},
   "outputs": [
    {
     "data": {
      "text/plain": [
       "array([[0., 0., 0., 2., 0., 2., 4.],\n       [0., 0., 3., 0., 1., 0., 9.],\n       [0., 3., 0., 0., 0., 0., 3.],\n       [2., 0., 0., 0., 2., 0., 8.],\n       [0., 1., 0., 2., 0., 1., 4.],\n       [2., 0., 0., 0., 1., 0., 5.],\n       [4., 9., 3., 8., 4., 5., 0.]])"
      ]
     },
     "execution_count": 38,
     "metadata": {},
     "output_type": "execute_result"
    }
   ],
   "source": [
    "size = len(word_set)\n",
    "count = np.zeros((size, size))\n",
    "for line in lines:\n",
    "    pre_word = \"\"\n",
    "    for i, word in enumerate(line[:-1].split(\" \")):\n",
    "        if i != 0:\n",
    "            pre_word_index = word_to_index[pre_word]\n",
    "            word_index = word_to_index[word]\n",
    "            count[pre_word_index, word_index] += 1\n",
    "            count[word_index, pre_word_index] += 1\n",
    "        pre_word = word\n",
    "count"
   ]
  },
  {
   "cell_type": "markdown",
   "metadata": {},
   "source": [
    "* Multiply your entire matrix by 10 (to pretend that we see these sentences 10 times) and then smooth the counts by adding 1 to all cells."
   ]
  },
  {
   "cell_type": "code",
   "execution_count": 39,
   "metadata": {},
   "outputs": [
    {
     "data": {
      "text/plain": [
       "array([[ 1.,  1.,  1., 21.,  1., 21., 41.],\n       [ 1.,  1., 31.,  1., 11.,  1., 91.],\n       [ 1., 31.,  1.,  1.,  1.,  1., 31.],\n       [21.,  1.,  1.,  1., 21.,  1., 81.],\n       [ 1., 11.,  1., 21.,  1., 11., 41.],\n       [21.,  1.,  1.,  1., 11.,  1., 51.],\n       [41., 91., 31., 81., 41., 51.,  1.]])"
      ]
     },
     "execution_count": 39,
     "metadata": {},
     "output_type": "execute_result"
    }
   ],
   "source": [
    "count = count * 10 + 1\n",
    "count"
   ]
  },
  {
   "cell_type": "code",
   "execution_count": 41,
   "metadata": {},
   "outputs": [
    {
     "data": {
      "text/plain": [
       "array([0.09364909, 0.1474704 , 0.07212056, 0.13670614, 0.09364909,\n       0.09364909, 0.36275565])"
      ]
     },
     "execution_count": 41,
     "metadata": {},
     "output_type": "execute_result"
    }
   ],
   "source": [
    "p_w = count.sum(axis=1) / count.sum()\n",
    "p_c = p_w\n",
    "p_w"
   ]
  },
  {
   "cell_type": "code",
   "execution_count": 43,
   "metadata": {},
   "outputs": [
    {
     "data": {
      "text/plain": [
       "array([[0.00213675, 0.00213675, 0.00213675, 0.04487179, 0.00213675,\n        0.04487179, 0.08760684],\n       [0.00213675, 0.00213675, 0.06623932, 0.00213675, 0.02350427,\n        0.00213675, 0.19444444],\n       [0.00213675, 0.06623932, 0.00213675, 0.00213675, 0.00213675,\n        0.00213675, 0.06623932],\n       [0.04487179, 0.00213675, 0.00213675, 0.00213675, 0.04487179,\n        0.00213675, 0.17307692],\n       [0.00213675, 0.02350427, 0.00213675, 0.04487179, 0.00213675,\n        0.02350427, 0.08760684],\n       [0.04487179, 0.00213675, 0.00213675, 0.00213675, 0.02350427,\n        0.00213675, 0.10897436],\n       [0.08760684, 0.19444444, 0.06623932, 0.17307692, 0.08760684,\n        0.10897436, 0.00213675]])"
      ]
     },
     "execution_count": 43,
     "metadata": {},
     "output_type": "execute_result"
    }
   ],
   "source": [
    "p_wc = count / ((count.sum() - count.trace()) / 2 + count.trace())\n",
    "p_wc"
   ]
  },
  {
   "cell_type": "code",
   "execution_count": 62,
   "metadata": {},
   "outputs": [
    {
     "data": {
      "text/plain": [
       "array([[0.        , 0.        , 0.        , 1.25417641, 0.        ,\n        1.63245538, 0.9473302 ],\n       [0.        , 0.        , 1.82906284, 0.        , 0.53175541,\n        0.        , 1.29054483],\n       [0.        , 1.82906284, 0.        , 0.        , 0.        ,\n        0.        , 0.92896084],\n       [1.25417641, 0.        , 0.        , 0.        , 1.25417641,\n        0.        , 1.24992832],\n       [0.        , 0.53175541, 0.        , 1.25417641, 0.        ,\n        0.98582822, 0.9473302 ],\n       [1.63245538, 0.        , 0.        , 0.        , 0.98582822,\n        0.        , 1.16558377],\n       [0.9473302 , 1.29054483, 0.92896084, 1.24992832, 0.9473302 ,\n        1.16558377, 0.        ]])"
      ]
     },
     "execution_count": 62,
     "metadata": {},
     "output_type": "execute_result"
    }
   ],
   "source": [
    "p_w = p_w.reshape(size, 1)\n",
    "p_c = p_c.reshape(1, size)\n",
    "PPMI = np.log(p_wc / (p_w * p_c))\n",
    "PPMI[PPMI < 0] = 0\n",
    "PPMI"
   ]
  },
  {
   "cell_type": "markdown",
   "metadata": {},
   "source": [
    "* Now instead of using your count matrix, use the PPMI matrix as a weighted count matrix. Then compare the word vector for “dogs” before and after PPMI reweighting. Does PPMI do the right thing to the count matrix? Why? Explain in a few sentences how PPMI helps (short prose will do here; no need to show any math, rather just an intuitive understanding)."
   ]
  },
  {
   "cell_type": "markdown",
   "metadata": {},
   "source": [
    "* Compute the Euclidean distance between the following pairs (you can use the command scipy.linalg.norm to compute the length/norm of a vector)"
   ]
  },
  {
   "cell_type": "markdown",
   "metadata": {},
   "source": [
    "* Decompose the matrix using singular-value decomposition (SVD)"
   ]
  },
  {
   "cell_type": "code",
   "execution_count": 66,
   "metadata": {},
   "outputs": [],
   "source": [
    "import scipy.linalg as scipy_linalg\n",
    "U, E, Vt = scipy_linalg.svd(PPMI, full_matrices=False)\n",
    "U = np.matrix(U) # compute U\n",
    "E = np.matrix(np.diag(E)) # compute E\n",
    "Vt = np.matrix(Vt) # compute Vt = conjugage transpose of V \n",
    "V = Vt.T # compute V = conjugate transpose of Vt"
   ]
  },
  {
   "cell_type": "code",
   "execution_count": 68,
   "metadata": {},
   "outputs": [
    {
     "data": {
      "text/plain": [
       "matrix([[-1.58752293, -1.23443582, -0.72159619],\n        [-1.34260467,  0.67455208,  1.14166954],\n        [-1.07539883, -0.21988618,  1.15410849],\n        [-1.58546891,  1.35984716, -0.48222781],\n        [-1.51369124, -1.03137443, -0.21285735],\n        [-1.58658081,  1.40856204, -0.60043088],\n        [-2.24829813, -0.68456521,  0.18280598]])"
      ]
     },
     "execution_count": 68,
     "metadata": {},
     "output_type": "execute_result"
    }
   ],
   "source": [
    "reduced_PPMI = PPMI * V[:, 0:3]\n",
    "reduced_PPMI"
   ]
  },
  {
   "cell_type": "code",
   "execution_count": null,
   "metadata": {},
   "outputs": [],
   "source": []
  }
 ],
 "metadata": {
  "kernelspec": {
   "display_name": "Python 2",
   "language": "python",
   "name": "python2"
  },
  "language_info": {
   "codemirror_mode": {
    "name": "ipython",
    "version": 2
   },
   "file_extension": ".py",
   "mimetype": "text/x-python",
   "name": "python",
   "nbconvert_exporter": "python",
   "pygments_lexer": "ipython2",
   "version": "2.7.6"
  }
 },
 "nbformat": 4,
 "nbformat_minor": 0
}
